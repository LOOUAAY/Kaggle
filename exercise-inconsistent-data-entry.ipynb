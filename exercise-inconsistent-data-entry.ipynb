{
 "cells": [
  {
   "cell_type": "markdown",
   "id": "8deea242",
   "metadata": {
    "papermill": {
     "duration": 0.006444,
     "end_time": "2022-08-05T07:51:06.881538",
     "exception": false,
     "start_time": "2022-08-05T07:51:06.875094",
     "status": "completed"
    },
    "tags": []
   },
   "source": [
    "**This notebook is an exercise in the [Data Cleaning](https://www.kaggle.com/learn/data-cleaning) course.  You can reference the tutorial at [this link](https://www.kaggle.com/alexisbcook/inconsistent-data-entry).**\n",
    "\n",
    "---\n"
   ]
  },
  {
   "cell_type": "markdown",
   "id": "238649e6",
   "metadata": {
    "papermill": {
     "duration": 0.004665,
     "end_time": "2022-08-05T07:51:06.891435",
     "exception": false,
     "start_time": "2022-08-05T07:51:06.886770",
     "status": "completed"
    },
    "tags": []
   },
   "source": [
    "In this exercise, you'll apply what you learned in the **Inconsistent data entry** tutorial.\n",
    "\n",
    "# Setup\n",
    "\n",
    "The questions below will give you feedback on your work. Run the following cell to set up the feedback system."
   ]
  },
  {
   "cell_type": "code",
   "execution_count": 1,
   "id": "02c653f6",
   "metadata": {
    "execution": {
     "iopub.execute_input": "2022-08-05T07:51:06.903439Z",
     "iopub.status.busy": "2022-08-05T07:51:06.902979Z",
     "iopub.status.idle": "2022-08-05T07:51:07.013853Z",
     "shell.execute_reply": "2022-08-05T07:51:07.012168Z"
    },
    "papermill": {
     "duration": 0.120577,
     "end_time": "2022-08-05T07:51:07.016993",
     "exception": false,
     "start_time": "2022-08-05T07:51:06.896416",
     "status": "completed"
    },
    "tags": []
   },
   "outputs": [
    {
     "name": "stdout",
     "output_type": "stream",
     "text": [
      "Setup Complete\n"
     ]
    }
   ],
   "source": [
    "from learntools.core import binder\n",
    "binder.bind(globals())\n",
    "from learntools.data_cleaning.ex5 import *\n",
    "print(\"Setup Complete\")"
   ]
  },
  {
   "cell_type": "markdown",
   "id": "6327fe47",
   "metadata": {
    "papermill": {
     "duration": 0.004972,
     "end_time": "2022-08-05T07:51:07.027296",
     "exception": false,
     "start_time": "2022-08-05T07:51:07.022324",
     "status": "completed"
    },
    "tags": []
   },
   "source": [
    "# Get our environment set up\n",
    "\n",
    "The first thing we'll need to do is load in the libraries and dataset we'll be using.  We use the same dataset from the tutorial."
   ]
  },
  {
   "cell_type": "code",
   "execution_count": 2,
   "id": "2b780de5",
   "metadata": {
    "execution": {
     "iopub.execute_input": "2022-08-05T07:51:07.039943Z",
     "iopub.status.busy": "2022-08-05T07:51:07.039195Z",
     "iopub.status.idle": "2022-08-05T07:51:07.056377Z",
     "shell.execute_reply": "2022-08-05T07:51:07.055504Z"
    },
    "papermill": {
     "duration": 0.02644,
     "end_time": "2022-08-05T07:51:07.058870",
     "exception": false,
     "start_time": "2022-08-05T07:51:07.032430",
     "status": "completed"
    },
    "tags": []
   },
   "outputs": [],
   "source": [
    "# modules we'll use\n",
    "import pandas as pd\n",
    "import numpy as np\n",
    "\n",
    "# helpful modules\n",
    "import fuzzywuzzy\n",
    "from fuzzywuzzy import process\n",
    "import chardet\n",
    "\n",
    "# read in all our data\n",
    "professors = pd.read_csv(\"../input/pakistan-intellectual-capital/pakistan_intellectual_capital.csv\")\n",
    "\n",
    "# set seed for reproducibility\n",
    "np.random.seed(0)"
   ]
  },
  {
   "cell_type": "markdown",
   "id": "fc8c3bc1",
   "metadata": {
    "papermill": {
     "duration": 0.004984,
     "end_time": "2022-08-05T07:51:07.069242",
     "exception": false,
     "start_time": "2022-08-05T07:51:07.064258",
     "status": "completed"
    },
    "tags": []
   },
   "source": [
    "Next, we'll redo all of the work that we did in the tutorial."
   ]
  },
  {
   "cell_type": "code",
   "execution_count": 3,
   "id": "44fab3dd",
   "metadata": {
    "execution": {
     "iopub.execute_input": "2022-08-05T07:51:07.082151Z",
     "iopub.status.busy": "2022-08-05T07:51:07.081330Z",
     "iopub.status.idle": "2022-08-05T07:51:07.097601Z",
     "shell.execute_reply": "2022-08-05T07:51:07.096288Z"
    },
    "papermill": {
     "duration": 0.025656,
     "end_time": "2022-08-05T07:51:07.100095",
     "exception": false,
     "start_time": "2022-08-05T07:51:07.074439",
     "status": "completed"
    },
    "tags": []
   },
   "outputs": [
    {
     "name": "stdout",
     "output_type": "stream",
     "text": [
      "All done!\n"
     ]
    }
   ],
   "source": [
    "# convert to lower case\n",
    "professors['Country'] = professors['Country'].str.lower()\n",
    "# remove trailing white spaces\n",
    "professors['Country'] = professors['Country'].str.strip()\n",
    "\n",
    "# get the top 10 closest matches to \"south korea\"\n",
    "countries = professors['Country'].unique()\n",
    "matches = fuzzywuzzy.process.extract(\"south korea\", countries, limit=10, scorer=fuzzywuzzy.fuzz.token_sort_ratio)\n",
    "\n",
    "def replace_matches_in_column(df, column, string_to_match, min_ratio = 47):\n",
    "    # get a list of unique strings\n",
    "    strings = df[column].unique()\n",
    "    \n",
    "    # get the top 10 closest matches to our input string\n",
    "    matches = fuzzywuzzy.process.extract(string_to_match, strings, \n",
    "                                         limit=10, scorer=fuzzywuzzy.fuzz.token_sort_ratio)\n",
    "\n",
    "    # only get matches with a ratio > 90\n",
    "    close_matches = [matches[0] for matches in matches if matches[1] >= min_ratio]\n",
    "\n",
    "    # get the rows of all the close matches in our dataframe\n",
    "    rows_with_matches = df[column].isin(close_matches)\n",
    "\n",
    "    # replace all rows with close matches with the input matches \n",
    "    df.loc[rows_with_matches, column] = string_to_match\n",
    "    \n",
    "    # let us know the function's done\n",
    "    print(\"All done!\")\n",
    "    \n",
    "replace_matches_in_column(df=professors, column='Country', string_to_match=\"south korea\")\n",
    "countries = professors['Country'].unique()"
   ]
  },
  {
   "cell_type": "markdown",
   "id": "8e78bcf7",
   "metadata": {
    "papermill": {
     "duration": 0.005049,
     "end_time": "2022-08-05T07:51:07.110532",
     "exception": false,
     "start_time": "2022-08-05T07:51:07.105483",
     "status": "completed"
    },
    "tags": []
   },
   "source": [
    "# 1) Examine another column\n",
    "\n",
    "Write code below to take a look at all the unique values in the \"Graduated from\" column."
   ]
  },
  {
   "cell_type": "code",
   "execution_count": 4,
   "id": "8fdeb339",
   "metadata": {
    "execution": {
     "iopub.execute_input": "2022-08-05T07:51:07.123007Z",
     "iopub.status.busy": "2022-08-05T07:51:07.122254Z",
     "iopub.status.idle": "2022-08-05T07:51:07.127262Z",
     "shell.execute_reply": "2022-08-05T07:51:07.126369Z"
    },
    "papermill": {
     "duration": 0.013808,
     "end_time": "2022-08-05T07:51:07.129470",
     "exception": false,
     "start_time": "2022-08-05T07:51:07.115662",
     "status": "completed"
    },
    "tags": []
   },
   "outputs": [],
   "source": [
    "# TODO: Your code here\n",
    "countries = professors[\"Country\"].unique()"
   ]
  },
  {
   "cell_type": "markdown",
   "id": "568c1b04",
   "metadata": {
    "papermill": {
     "duration": 0.005623,
     "end_time": "2022-08-05T07:51:07.140380",
     "exception": false,
     "start_time": "2022-08-05T07:51:07.134757",
     "status": "completed"
    },
    "tags": []
   },
   "source": [
    "Do you notice any inconsistencies in the data?  Can any of the inconsistencies in the data be fixed by removing white spaces at the beginning and end of cells?\n",
    "\n",
    "Once you have answered these questions, run the code cell below to get credit for your work."
   ]
  },
  {
   "cell_type": "code",
   "execution_count": 5,
   "id": "21e24ce0",
   "metadata": {
    "execution": {
     "iopub.execute_input": "2022-08-05T07:51:07.153341Z",
     "iopub.status.busy": "2022-08-05T07:51:07.152541Z",
     "iopub.status.idle": "2022-08-05T07:51:07.162533Z",
     "shell.execute_reply": "2022-08-05T07:51:07.161722Z"
    },
    "papermill": {
     "duration": 0.018697,
     "end_time": "2022-08-05T07:51:07.164493",
     "exception": false,
     "start_time": "2022-08-05T07:51:07.145796",
     "status": "completed"
    },
    "tags": []
   },
   "outputs": [
    {
     "data": {
      "application/javascript": [
       "parent.postMessage({\"jupyterEvent\": \"custom.exercise_interaction\", \"data\": {\"outcomeType\": 1, \"valueTowardsCompletion\": 0.3333333333333333, \"interactionType\": 1, \"questionType\": 4, \"questionId\": \"1_ExamineProvince\", \"learnToolsVersion\": \"0.3.4\", \"failureMessage\": \"\", \"exceptionClass\": \"\", \"trace\": \"\"}}, \"*\")"
      ],
      "text/plain": [
       "<IPython.core.display.Javascript object>"
      ]
     },
     "metadata": {},
     "output_type": "display_data"
    },
    {
     "data": {
      "text/markdown": [
       "<span style=\"color:#33cc33\">Correct:</span> \n",
       "\n",
       "There are inconsistencies that can be fixed by removing white spaces at the beginning and end of cells.  For instance, \"University of Central Florida\" and \" University of Central Florida\" both appear in the column."
      ],
      "text/plain": [
       "Correct: \n",
       "\n",
       "There are inconsistencies that can be fixed by removing white spaces at the beginning and end of cells.  For instance, \"University of Central Florida\" and \" University of Central Florida\" both appear in the column."
      ]
     },
     "metadata": {},
     "output_type": "display_data"
    }
   ],
   "source": [
    "# Check your answer (Run this code cell to receive credit!)\n",
    "q1.check()"
   ]
  },
  {
   "cell_type": "code",
   "execution_count": 6,
   "id": "ee7aec55",
   "metadata": {
    "execution": {
     "iopub.execute_input": "2022-08-05T07:51:07.177509Z",
     "iopub.status.busy": "2022-08-05T07:51:07.176783Z",
     "iopub.status.idle": "2022-08-05T07:51:07.180581Z",
     "shell.execute_reply": "2022-08-05T07:51:07.179845Z"
    },
    "papermill": {
     "duration": 0.012638,
     "end_time": "2022-08-05T07:51:07.182677",
     "exception": false,
     "start_time": "2022-08-05T07:51:07.170039",
     "status": "completed"
    },
    "tags": []
   },
   "outputs": [],
   "source": [
    "# Line below will give you a hint\n",
    "#q1.hint()"
   ]
  },
  {
   "cell_type": "markdown",
   "id": "b52d0022",
   "metadata": {
    "papermill": {
     "duration": 0.005147,
     "end_time": "2022-08-05T07:51:07.193272",
     "exception": false,
     "start_time": "2022-08-05T07:51:07.188125",
     "status": "completed"
    },
    "tags": []
   },
   "source": [
    "# 2) Do some text pre-processing\n",
    "\n",
    "Convert every entry in the \"Graduated from\" column in the `professors` DataFrame to remove white spaces at the beginning and end of cells."
   ]
  },
  {
   "cell_type": "code",
   "execution_count": 7,
   "id": "0fd65ca6",
   "metadata": {
    "execution": {
     "iopub.execute_input": "2022-08-05T07:51:07.205984Z",
     "iopub.status.busy": "2022-08-05T07:51:07.205548Z",
     "iopub.status.idle": "2022-08-05T07:51:07.217186Z",
     "shell.execute_reply": "2022-08-05T07:51:07.216412Z"
    },
    "papermill": {
     "duration": 0.020628,
     "end_time": "2022-08-05T07:51:07.219328",
     "exception": false,
     "start_time": "2022-08-05T07:51:07.198700",
     "status": "completed"
    },
    "tags": []
   },
   "outputs": [
    {
     "data": {
      "application/javascript": [
       "parent.postMessage({\"jupyterEvent\": \"custom.exercise_interaction\", \"data\": {\"outcomeType\": 1, \"valueTowardsCompletion\": 0.3333333333333333, \"interactionType\": 1, \"questionType\": 1, \"questionId\": \"2_TextProcessing\", \"learnToolsVersion\": \"0.3.4\", \"failureMessage\": \"\", \"exceptionClass\": \"\", \"trace\": \"\"}}, \"*\")"
      ],
      "text/plain": [
       "<IPython.core.display.Javascript object>"
      ]
     },
     "metadata": {},
     "output_type": "display_data"
    },
    {
     "data": {
      "text/markdown": [
       "<span style=\"color:#33cc33\">Correct</span>"
      ],
      "text/plain": [
       "Correct"
      ]
     },
     "metadata": {},
     "output_type": "display_data"
    }
   ],
   "source": [
    "# TODO: Your code here\n",
    "professors['Graduated from'] = professors['Graduated from'].str.strip()\n",
    "\n",
    "# Check your answer\n",
    "q2.check()"
   ]
  },
  {
   "cell_type": "code",
   "execution_count": 8,
   "id": "769f7132",
   "metadata": {
    "execution": {
     "iopub.execute_input": "2022-08-05T07:51:07.232662Z",
     "iopub.status.busy": "2022-08-05T07:51:07.231950Z",
     "iopub.status.idle": "2022-08-05T07:51:07.235737Z",
     "shell.execute_reply": "2022-08-05T07:51:07.234974Z"
    },
    "papermill": {
     "duration": 0.013015,
     "end_time": "2022-08-05T07:51:07.237949",
     "exception": false,
     "start_time": "2022-08-05T07:51:07.224934",
     "status": "completed"
    },
    "tags": []
   },
   "outputs": [],
   "source": [
    "# Lines below will give you a hint or solution code\n",
    "#q2.hint()\n",
    "#q2.solution()"
   ]
  },
  {
   "cell_type": "markdown",
   "id": "0aa58878",
   "metadata": {
    "papermill": {
     "duration": 0.005335,
     "end_time": "2022-08-05T07:51:07.248990",
     "exception": false,
     "start_time": "2022-08-05T07:51:07.243655",
     "status": "completed"
    },
    "tags": []
   },
   "source": [
    "# 3) Continue working with countries\n",
    "\n",
    "In the tutorial, we focused on cleaning up inconsistencies in the \"Country\" column.  Run the code cell below to view the list of unique values that we ended with."
   ]
  },
  {
   "cell_type": "code",
   "execution_count": 9,
   "id": "df3074d0",
   "metadata": {
    "execution": {
     "iopub.execute_input": "2022-08-05T07:51:07.262397Z",
     "iopub.status.busy": "2022-08-05T07:51:07.261670Z",
     "iopub.status.idle": "2022-08-05T07:51:07.268725Z",
     "shell.execute_reply": "2022-08-05T07:51:07.267945Z"
    },
    "papermill": {
     "duration": 0.01656,
     "end_time": "2022-08-05T07:51:07.271192",
     "exception": false,
     "start_time": "2022-08-05T07:51:07.254632",
     "status": "completed"
    },
    "tags": []
   },
   "outputs": [
    {
     "data": {
      "text/plain": [
       "array(['australia', 'austria', 'canada', 'china', 'finland', 'france',\n",
       "       'germany', 'greece', 'hongkong', 'ireland', 'italy', 'japan',\n",
       "       'macau', 'malaysia', 'mauritius', 'netherland', 'new zealand',\n",
       "       'norway', 'pakistan', 'portugal', 'russian federation',\n",
       "       'saudi arabia', 'scotland', 'singapore', 'south korea', 'spain',\n",
       "       'sweden', 'thailand', 'turkey', 'uk', 'urbana', 'usa', 'usofa'],\n",
       "      dtype=object)"
      ]
     },
     "execution_count": 9,
     "metadata": {},
     "output_type": "execute_result"
    }
   ],
   "source": [
    "# get all the unique values in the 'City' column\n",
    "countries = professors['Country'].unique()\n",
    "\n",
    "# sort them alphabetically and then take a closer look\n",
    "countries.sort()\n",
    "countries"
   ]
  },
  {
   "cell_type": "markdown",
   "id": "3484f4ff",
   "metadata": {
    "papermill": {
     "duration": 0.005434,
     "end_time": "2022-08-05T07:51:07.282527",
     "exception": false,
     "start_time": "2022-08-05T07:51:07.277093",
     "status": "completed"
    },
    "tags": []
   },
   "source": [
    "Take another look at the \"Country\" column and see if there's any more data cleaning we need to do.\n",
    "\n",
    "It looks like 'usa' and 'usofa' should be the same country.  Correct the \"Country\" column in the dataframe to replace 'usofa' with 'usa'.\n",
    "\n",
    "**Use the most recent version of the DataFrame (with the whitespaces at the beginning and end of cells removed) from question 2.**"
   ]
  },
  {
   "cell_type": "code",
   "execution_count": 10,
   "id": "e7ec2f68",
   "metadata": {
    "execution": {
     "iopub.execute_input": "2022-08-05T07:51:07.297556Z",
     "iopub.status.busy": "2022-08-05T07:51:07.296786Z",
     "iopub.status.idle": "2022-08-05T07:51:07.311597Z",
     "shell.execute_reply": "2022-08-05T07:51:07.310462Z"
    },
    "papermill": {
     "duration": 0.024914,
     "end_time": "2022-08-05T07:51:07.313927",
     "exception": false,
     "start_time": "2022-08-05T07:51:07.289013",
     "status": "completed"
    },
    "tags": []
   },
   "outputs": [
    {
     "name": "stdout",
     "output_type": "stream",
     "text": [
      "All done!\n"
     ]
    },
    {
     "data": {
      "application/javascript": [
       "parent.postMessage({\"jupyterEvent\": \"custom.exercise_interaction\", \"data\": {\"outcomeType\": 1, \"valueTowardsCompletion\": 0.3333333333333333, \"interactionType\": 1, \"questionType\": 1, \"questionId\": \"3_WorkingWithCities\", \"learnToolsVersion\": \"0.3.4\", \"failureMessage\": \"\", \"exceptionClass\": \"\", \"trace\": \"\"}}, \"*\")"
      ],
      "text/plain": [
       "<IPython.core.display.Javascript object>"
      ]
     },
     "metadata": {},
     "output_type": "display_data"
    },
    {
     "data": {
      "text/markdown": [
       "<span style=\"color:#33cc33\">Correct</span>"
      ],
      "text/plain": [
       "Correct"
      ]
     },
     "metadata": {},
     "output_type": "display_data"
    }
   ],
   "source": [
    "# To get usa and the same word as usa\n",
    "clean_usa = fuzzywuzzy.process.extract('usa' , countries , limit=10 , scorer = fuzzywuzzy.fuzz.token_sort_ratio)\n",
    "\n",
    "replace_matches_in_column(df=professors , column='Country' , string_to_match='usa' , min_ratio=70)\n",
    "# Check your answer\n",
    "q3.check()"
   ]
  },
  {
   "cell_type": "code",
   "execution_count": 11,
   "id": "4a7b68c9",
   "metadata": {
    "execution": {
     "iopub.execute_input": "2022-08-05T07:51:07.328415Z",
     "iopub.status.busy": "2022-08-05T07:51:07.327666Z",
     "iopub.status.idle": "2022-08-05T07:51:07.331539Z",
     "shell.execute_reply": "2022-08-05T07:51:07.330751Z"
    },
    "papermill": {
     "duration": 0.013604,
     "end_time": "2022-08-05T07:51:07.333700",
     "exception": false,
     "start_time": "2022-08-05T07:51:07.320096",
     "status": "completed"
    },
    "tags": []
   },
   "outputs": [],
   "source": [
    "# Lines below will give you a hint or solution code\n",
    "#q3.hint()\n",
    "#q3.solution()"
   ]
  },
  {
   "cell_type": "markdown",
   "id": "0226aad2",
   "metadata": {
    "papermill": {
     "duration": 0.005728,
     "end_time": "2022-08-05T07:51:07.345529",
     "exception": false,
     "start_time": "2022-08-05T07:51:07.339801",
     "status": "completed"
    },
    "tags": []
   },
   "source": [
    "# Congratulations!\n",
    "\n",
    "Congratulations for completing the **Data Cleaning** course on Kaggle Learn!\n",
    "\n",
    "To practice your new skills, you're encouraged to download and investigate some of [Kaggle's Datasets](https://www.kaggle.com/datasets)."
   ]
  },
  {
   "cell_type": "markdown",
   "id": "f9b2ec63",
   "metadata": {
    "papermill": {
     "duration": 0.005681,
     "end_time": "2022-08-05T07:51:07.357390",
     "exception": false,
     "start_time": "2022-08-05T07:51:07.351709",
     "status": "completed"
    },
    "tags": []
   },
   "source": [
    "---\n",
    "\n",
    "\n",
    "\n",
    "\n",
    "*Have questions or comments? Visit the [course discussion forum](https://www.kaggle.com/learn/data-cleaning/discussion) to chat with other learners.*"
   ]
  }
 ],
 "metadata": {
  "kernelspec": {
   "display_name": "Python 3",
   "language": "python",
   "name": "python3"
  },
  "language_info": {
   "codemirror_mode": {
    "name": "ipython",
    "version": 3
   },
   "file_extension": ".py",
   "mimetype": "text/x-python",
   "name": "python",
   "nbconvert_exporter": "python",
   "pygments_lexer": "ipython3",
   "version": "3.7.12"
  },
  "papermill": {
   "default_parameters": {},
   "duration": 10.946869,
   "end_time": "2022-08-05T07:51:07.984983",
   "environment_variables": {},
   "exception": null,
   "input_path": "__notebook__.ipynb",
   "output_path": "__notebook__.ipynb",
   "parameters": {},
   "start_time": "2022-08-05T07:50:57.038114",
   "version": "2.3.4"
  }
 },
 "nbformat": 4,
 "nbformat_minor": 5
}
