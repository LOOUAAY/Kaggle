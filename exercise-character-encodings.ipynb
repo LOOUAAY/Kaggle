{
 "cells": [
  {
   "cell_type": "markdown",
   "id": "b0756580",
   "metadata": {
    "papermill": {
     "duration": 0.00565,
     "end_time": "2022-08-05T06:43:04.067147",
     "exception": false,
     "start_time": "2022-08-05T06:43:04.061497",
     "status": "completed"
    },
    "tags": []
   },
   "source": [
    "**This notebook is an exercise in the [Data Cleaning](https://www.kaggle.com/learn/data-cleaning) course.  You can reference the tutorial at [this link](https://www.kaggle.com/alexisbcook/character-encodings).**\n",
    "\n",
    "---\n"
   ]
  },
  {
   "cell_type": "markdown",
   "id": "267c9922",
   "metadata": {
    "papermill": {
     "duration": 0.004129,
     "end_time": "2022-08-05T06:43:04.075944",
     "exception": false,
     "start_time": "2022-08-05T06:43:04.071815",
     "status": "completed"
    },
    "tags": []
   },
   "source": [
    "In this exercise, you'll apply what you learned in the **Character encodings** tutorial.\n",
    "\n",
    "# Setup\n",
    "\n",
    "The questions below will give you feedback on your work. Run the following cell to set up the feedback system."
   ]
  },
  {
   "cell_type": "code",
   "execution_count": 1,
   "id": "d718d283",
   "metadata": {
    "execution": {
     "iopub.execute_input": "2022-08-05T06:43:04.087290Z",
     "iopub.status.busy": "2022-08-05T06:43:04.086695Z",
     "iopub.status.idle": "2022-08-05T06:43:04.171505Z",
     "shell.execute_reply": "2022-08-05T06:43:04.170315Z"
    },
    "papermill": {
     "duration": 0.09394,
     "end_time": "2022-08-05T06:43:04.174261",
     "exception": false,
     "start_time": "2022-08-05T06:43:04.080321",
     "status": "completed"
    },
    "tags": []
   },
   "outputs": [
    {
     "name": "stdout",
     "output_type": "stream",
     "text": [
      "Setup Complete\n"
     ]
    }
   ],
   "source": [
    "from learntools.core import binder\n",
    "binder.bind(globals())\n",
    "from learntools.data_cleaning.ex4 import *\n",
    "print(\"Setup Complete\")"
   ]
  },
  {
   "cell_type": "markdown",
   "id": "69f571e7",
   "metadata": {
    "papermill": {
     "duration": 0.004226,
     "end_time": "2022-08-05T06:43:04.183306",
     "exception": false,
     "start_time": "2022-08-05T06:43:04.179080",
     "status": "completed"
    },
    "tags": []
   },
   "source": [
    "# Get our environment set up\n",
    "\n",
    "The first thing we'll need to do is load in the libraries we'll be using."
   ]
  },
  {
   "cell_type": "code",
   "execution_count": 2,
   "id": "7022109f",
   "metadata": {
    "execution": {
     "iopub.execute_input": "2022-08-05T06:43:04.194142Z",
     "iopub.status.busy": "2022-08-05T06:43:04.193522Z",
     "iopub.status.idle": "2022-08-05T06:43:04.198441Z",
     "shell.execute_reply": "2022-08-05T06:43:04.197743Z"
    },
    "papermill": {
     "duration": 0.013024,
     "end_time": "2022-08-05T06:43:04.200782",
     "exception": false,
     "start_time": "2022-08-05T06:43:04.187758",
     "status": "completed"
    },
    "tags": []
   },
   "outputs": [],
   "source": [
    "# modules we'll use\n",
    "import pandas as pd\n",
    "import numpy as np\n",
    "\n",
    "# helpful character encoding module\n",
    "import chardet\n",
    "\n",
    "# set seed for reproducibility\n",
    "np.random.seed(0)"
   ]
  },
  {
   "cell_type": "markdown",
   "id": "49b1012b",
   "metadata": {
    "papermill": {
     "duration": 0.004359,
     "end_time": "2022-08-05T06:43:04.209662",
     "exception": false,
     "start_time": "2022-08-05T06:43:04.205303",
     "status": "completed"
    },
    "tags": []
   },
   "source": [
    "# 1) What are encodings?\n",
    "\n",
    "You're working with a dataset composed of bytes.  Run the code cell below to print a sample entry."
   ]
  },
  {
   "cell_type": "code",
   "execution_count": 3,
   "id": "0a6777a0",
   "metadata": {
    "execution": {
     "iopub.execute_input": "2022-08-05T06:43:04.220104Z",
     "iopub.status.busy": "2022-08-05T06:43:04.219694Z",
     "iopub.status.idle": "2022-08-05T06:43:04.225539Z",
     "shell.execute_reply": "2022-08-05T06:43:04.224495Z"
    },
    "papermill": {
     "duration": 0.013422,
     "end_time": "2022-08-05T06:43:04.227519",
     "exception": false,
     "start_time": "2022-08-05T06:43:04.214097",
     "status": "completed"
    },
    "tags": []
   },
   "outputs": [
    {
     "name": "stdout",
     "output_type": "stream",
     "text": [
      "b'\\xa7A\\xa6n'\n",
      "data type: <class 'bytes'>\n"
     ]
    }
   ],
   "source": [
    "sample_entry = b'\\xa7A\\xa6n'\n",
    "print(sample_entry)\n",
    "print('data type:', type(sample_entry))"
   ]
  },
  {
   "cell_type": "markdown",
   "id": "8b70b2cc",
   "metadata": {
    "papermill": {
     "duration": 0.004287,
     "end_time": "2022-08-05T06:43:04.236610",
     "exception": false,
     "start_time": "2022-08-05T06:43:04.232323",
     "status": "completed"
    },
    "tags": []
   },
   "source": [
    "You notice that it doesn't use the standard UTF-8 encoding. \n",
    "\n",
    "Use the next code cell to create a variable `new_entry` that changes the encoding from `\"big5-tw\"` to `\"utf-8\"`.  `new_entry` should have the bytes datatype."
   ]
  },
  {
   "cell_type": "code",
   "execution_count": 4,
   "id": "95a88a8d",
   "metadata": {
    "execution": {
     "iopub.execute_input": "2022-08-05T06:43:04.247765Z",
     "iopub.status.busy": "2022-08-05T06:43:04.246860Z",
     "iopub.status.idle": "2022-08-05T06:43:04.257900Z",
     "shell.execute_reply": "2022-08-05T06:43:04.256906Z"
    },
    "papermill": {
     "duration": 0.019059,
     "end_time": "2022-08-05T06:43:04.260180",
     "exception": false,
     "start_time": "2022-08-05T06:43:04.241121",
     "status": "completed"
    },
    "tags": []
   },
   "outputs": [
    {
     "data": {
      "application/javascript": [
       "parent.postMessage({\"jupyterEvent\": \"custom.exercise_interaction\", \"data\": {\"outcomeType\": 1, \"valueTowardsCompletion\": 0.3333333333333333, \"interactionType\": 1, \"questionType\": 1, \"questionId\": \"1_EncodingsIntro\", \"learnToolsVersion\": \"0.3.4\", \"failureMessage\": \"\", \"exceptionClass\": \"\", \"trace\": \"\"}}, \"*\")"
      ],
      "text/plain": [
       "<IPython.core.display.Javascript object>"
      ]
     },
     "metadata": {},
     "output_type": "display_data"
    },
    {
     "data": {
      "text/markdown": [
       "<span style=\"color:#33cc33\">Correct</span>"
      ],
      "text/plain": [
       "Correct"
      ]
     },
     "metadata": {},
     "output_type": "display_data"
    }
   ],
   "source": [
    "before = sample_entry.decode(\"big5-tw\")\n",
    "new_entry = before.encode()\n",
    "\n",
    "# Check your answer\n",
    "q1.check()"
   ]
  },
  {
   "cell_type": "code",
   "execution_count": 5,
   "id": "ea3a5900",
   "metadata": {
    "execution": {
     "iopub.execute_input": "2022-08-05T06:43:04.271228Z",
     "iopub.status.busy": "2022-08-05T06:43:04.270921Z",
     "iopub.status.idle": "2022-08-05T06:43:04.275038Z",
     "shell.execute_reply": "2022-08-05T06:43:04.274019Z"
    },
    "papermill": {
     "duration": 0.012122,
     "end_time": "2022-08-05T06:43:04.277174",
     "exception": false,
     "start_time": "2022-08-05T06:43:04.265052",
     "status": "completed"
    },
    "tags": []
   },
   "outputs": [],
   "source": [
    "# Lines below will give you a hint or solution code\n",
    "#q1.hint()\n",
    "#q1.solution()"
   ]
  },
  {
   "cell_type": "markdown",
   "id": "1736155a",
   "metadata": {
    "papermill": {
     "duration": 0.004919,
     "end_time": "2022-08-05T06:43:04.286909",
     "exception": false,
     "start_time": "2022-08-05T06:43:04.281990",
     "status": "completed"
    },
    "tags": []
   },
   "source": [
    "# 2) Reading in files with encoding problems\n",
    "\n",
    "Use the code cell below to read in this file at path `\"../input/fatal-police-shootings-in-the-us/PoliceKillingsUS.csv\"`.  \n",
    "\n",
    "Figure out what the correct encoding should be and read in the file to a DataFrame `police_killings`."
   ]
  },
  {
   "cell_type": "code",
   "execution_count": 6,
   "id": "55d37c03",
   "metadata": {
    "execution": {
     "iopub.execute_input": "2022-08-05T06:43:04.298174Z",
     "iopub.status.busy": "2022-08-05T06:43:04.297331Z",
     "iopub.status.idle": "2022-08-05T06:43:04.342037Z",
     "shell.execute_reply": "2022-08-05T06:43:04.340486Z"
    },
    "papermill": {
     "duration": 0.052973,
     "end_time": "2022-08-05T06:43:04.344534",
     "exception": false,
     "start_time": "2022-08-05T06:43:04.291561",
     "status": "completed"
    },
    "tags": []
   },
   "outputs": [
    {
     "name": "stdout",
     "output_type": "stream",
     "text": [
      "{'encoding': 'ascii', 'confidence': 1.0, 'language': ''}\n",
      "   id                name      date   manner_of_death       armed   age  \\\n",
      "0   3          Tim Elliot  02/01/15              shot         gun  53.0   \n",
      "1   4    Lewis Lee Lembke  02/01/15              shot         gun  47.0   \n",
      "2   5  John Paul Quintero  03/01/15  shot and Tasered     unarmed  23.0   \n",
      "3   8     Matthew Hoffman  04/01/15              shot  toy weapon  32.0   \n",
      "4   9   Michael Rodriguez  04/01/15              shot    nail gun  39.0   \n",
      "\n",
      "  gender race           city state  signs_of_mental_illness threat_level  \\\n",
      "0      M    A        Shelton    WA                     True       attack   \n",
      "1      M    W          Aloha    OR                    False       attack   \n",
      "2      M    H        Wichita    KS                    False        other   \n",
      "3      M    W  San Francisco    CA                     True       attack   \n",
      "4      M    H          Evans    CO                    False       attack   \n",
      "\n",
      "          flee  body_camera  \n",
      "0  Not fleeing        False  \n",
      "1  Not fleeing        False  \n",
      "2  Not fleeing        False  \n",
      "3  Not fleeing        False  \n",
      "4  Not fleeing        False  \n"
     ]
    },
    {
     "data": {
      "application/javascript": [
       "parent.postMessage({\"jupyterEvent\": \"custom.exercise_interaction\", \"data\": {\"outcomeType\": 1, \"valueTowardsCompletion\": 0.3333333333333333, \"interactionType\": 1, \"questionType\": 1, \"questionId\": \"2_ReadIn\", \"learnToolsVersion\": \"0.3.4\", \"failureMessage\": \"\", \"exceptionClass\": \"\", \"trace\": \"\"}}, \"*\")"
      ],
      "text/plain": [
       "<IPython.core.display.Javascript object>"
      ]
     },
     "metadata": {},
     "output_type": "display_data"
    },
    {
     "data": {
      "text/markdown": [
       "<span style=\"color:#33cc33\">Correct</span>"
      ],
      "text/plain": [
       "Correct"
      ]
     },
     "metadata": {},
     "output_type": "display_data"
    }
   ],
   "source": [
    "# TODO: Load in the DataFrame correctly.\n",
    "with open(\"../input/fatal-police-shootings-in-the-us/PoliceKillingsUS.csv\", 'rb') as rawdata:\n",
    "    result = chardet.detect(rawdata.read(10000))\n",
    "\n",
    "# check what the character encoding might be\n",
    "print(result)\n",
    "\n",
    "#solution\n",
    "police_killings = pd.read_csv(\"../input/fatal-police-shootings-in-the-us/PoliceKillingsUS.csv\" , encoding='Windows-1252')\n",
    "\n",
    "# reading first 5 raws\n",
    "\n",
    "print(police_killings.head(5))\n",
    "# Check your answer\n",
    "q2.check()"
   ]
  },
  {
   "cell_type": "markdown",
   "id": "15e59990",
   "metadata": {
    "papermill": {
     "duration": 0.004855,
     "end_time": "2022-08-05T06:43:04.354855",
     "exception": false,
     "start_time": "2022-08-05T06:43:04.350000",
     "status": "completed"
    },
    "tags": []
   },
   "source": [
    "Feel free to use any additional code cells for supplemental work.  To get credit for finishing this question, you'll need to run `q2.check()` and get a result of **Correct**."
   ]
  },
  {
   "cell_type": "code",
   "execution_count": 7,
   "id": "adb427e8",
   "metadata": {
    "execution": {
     "iopub.execute_input": "2022-08-05T06:43:04.366938Z",
     "iopub.status.busy": "2022-08-05T06:43:04.366320Z",
     "iopub.status.idle": "2022-08-05T06:43:04.370910Z",
     "shell.execute_reply": "2022-08-05T06:43:04.370041Z"
    },
    "papermill": {
     "duration": 0.013028,
     "end_time": "2022-08-05T06:43:04.372897",
     "exception": false,
     "start_time": "2022-08-05T06:43:04.359869",
     "status": "completed"
    },
    "tags": []
   },
   "outputs": [],
   "source": [
    "# (Optional) Use this code cell for any additional work."
   ]
  },
  {
   "cell_type": "code",
   "execution_count": 8,
   "id": "4eddf8dd",
   "metadata": {
    "execution": {
     "iopub.execute_input": "2022-08-05T06:43:04.384787Z",
     "iopub.status.busy": "2022-08-05T06:43:04.384161Z",
     "iopub.status.idle": "2022-08-05T06:43:04.387733Z",
     "shell.execute_reply": "2022-08-05T06:43:04.387000Z"
    },
    "papermill": {
     "duration": 0.011604,
     "end_time": "2022-08-05T06:43:04.389550",
     "exception": false,
     "start_time": "2022-08-05T06:43:04.377946",
     "status": "completed"
    },
    "tags": []
   },
   "outputs": [],
   "source": [
    "# Lines below will give you a hint or solution code\n",
    "#q2.hint()\n",
    "#q2.solution()"
   ]
  },
  {
   "cell_type": "markdown",
   "id": "c9852e73",
   "metadata": {
    "papermill": {
     "duration": 0.004797,
     "end_time": "2022-08-05T06:43:04.399486",
     "exception": false,
     "start_time": "2022-08-05T06:43:04.394689",
     "status": "completed"
    },
    "tags": []
   },
   "source": [
    "# 3) Saving your files with UTF-8 encoding\n",
    "\n",
    "Save a version of the police killings dataset to CSV with UTF-8 encoding.  Your answer will be marked correct after saving this file.  \n",
    "\n",
    "Note: When using the `to_csv()` method, supply only the name of the file (e.g., `\"my_file.csv\"`).  This saves the file at the filepath `\"/kaggle/working/my_file.csv\"`."
   ]
  },
  {
   "cell_type": "code",
   "execution_count": 9,
   "id": "b76715f0",
   "metadata": {
    "execution": {
     "iopub.execute_input": "2022-08-05T06:43:04.411695Z",
     "iopub.status.busy": "2022-08-05T06:43:04.410964Z",
     "iopub.status.idle": "2022-08-05T06:43:04.446345Z",
     "shell.execute_reply": "2022-08-05T06:43:04.445267Z"
    },
    "papermill": {
     "duration": 0.044037,
     "end_time": "2022-08-05T06:43:04.448626",
     "exception": false,
     "start_time": "2022-08-05T06:43:04.404589",
     "status": "completed"
    },
    "tags": []
   },
   "outputs": [
    {
     "data": {
      "application/javascript": [
       "parent.postMessage({\"jupyterEvent\": \"custom.exercise_interaction\", \"data\": {\"outcomeType\": 1, \"valueTowardsCompletion\": 0.3333333333333333, \"interactionType\": 1, \"questionType\": 2, \"questionId\": \"3_SaveCSV\", \"learnToolsVersion\": \"0.3.4\", \"failureMessage\": \"\", \"exceptionClass\": \"\", \"trace\": \"\"}}, \"*\")"
      ],
      "text/plain": [
       "<IPython.core.display.Javascript object>"
      ]
     },
     "metadata": {},
     "output_type": "display_data"
    },
    {
     "data": {
      "text/markdown": [
       "<span style=\"color:#33cc33\">Correct</span>"
      ],
      "text/plain": [
       "Correct"
      ]
     },
     "metadata": {},
     "output_type": "display_data"
    }
   ],
   "source": [
    "# TODO: Save the police killings dataset to CSV\n",
    "\n",
    "police_killings.to_csv(\"my_file.csv\")\n",
    "\n",
    "# Check your answer\n",
    "q3.check()"
   ]
  },
  {
   "cell_type": "code",
   "execution_count": 10,
   "id": "909ebae2",
   "metadata": {
    "execution": {
     "iopub.execute_input": "2022-08-05T06:43:04.461063Z",
     "iopub.status.busy": "2022-08-05T06:43:04.460689Z",
     "iopub.status.idle": "2022-08-05T06:43:04.464678Z",
     "shell.execute_reply": "2022-08-05T06:43:04.463718Z"
    },
    "papermill": {
     "duration": 0.012878,
     "end_time": "2022-08-05T06:43:04.466973",
     "exception": false,
     "start_time": "2022-08-05T06:43:04.454095",
     "status": "completed"
    },
    "tags": []
   },
   "outputs": [],
   "source": [
    "# Lines below will give you a hint or solution code\n",
    "#q3.hint()\n",
    "#q3.solution()"
   ]
  },
  {
   "cell_type": "markdown",
   "id": "8f5e1118",
   "metadata": {
    "papermill": {
     "duration": 0.005557,
     "end_time": "2022-08-05T06:43:04.479001",
     "exception": false,
     "start_time": "2022-08-05T06:43:04.473444",
     "status": "completed"
    },
    "tags": []
   },
   "source": [
    "# (Optional) More practice\n",
    "\n",
    "Check out [this dataset of files in different character encodings](https://www.kaggle.com/rtatman/character-encoding-examples). Can you read in all the files with their original encodings and them save them out as UTF-8 files?\n",
    "\n",
    "If you have a file that's in UTF-8 but has just a couple of weird-looking characters in it, you can try out the [ftfy module](https://ftfy.readthedocs.io/en/latest/#) and see if it helps. \n",
    "\n",
    "# Keep going\n",
    "\n",
    "In the final lesson, learn how to [**clean up inconsistent text entries**](https://www.kaggle.com/alexisbcook/inconsistent-data-entry) in your dataset."
   ]
  },
  {
   "cell_type": "markdown",
   "id": "8f0bc664",
   "metadata": {
    "papermill": {
     "duration": 0.005134,
     "end_time": "2022-08-05T06:43:04.489916",
     "exception": false,
     "start_time": "2022-08-05T06:43:04.484782",
     "status": "completed"
    },
    "tags": []
   },
   "source": [
    "---\n",
    "\n",
    "\n",
    "\n",
    "\n",
    "*Have questions or comments? Visit the [course discussion forum](https://www.kaggle.com/learn/data-cleaning/discussion) to chat with other learners.*"
   ]
  }
 ],
 "metadata": {
  "kernelspec": {
   "display_name": "Python 3",
   "language": "python",
   "name": "python3"
  },
  "language_info": {
   "codemirror_mode": {
    "name": "ipython",
    "version": 3
   },
   "file_extension": ".py",
   "mimetype": "text/x-python",
   "name": "python",
   "nbconvert_exporter": "python",
   "pygments_lexer": "ipython3",
   "version": "3.7.12"
  },
  "papermill": {
   "default_parameters": {},
   "duration": 10.377415,
   "end_time": "2022-08-05T06:43:05.116093",
   "environment_variables": {},
   "exception": null,
   "input_path": "__notebook__.ipynb",
   "output_path": "__notebook__.ipynb",
   "parameters": {},
   "start_time": "2022-08-05T06:42:54.738678",
   "version": "2.3.4"
  }
 },
 "nbformat": 4,
 "nbformat_minor": 5
}
